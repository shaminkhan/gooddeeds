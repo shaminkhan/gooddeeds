{
  "nbformat": 4,
  "nbformat_minor": 0,
  "metadata": {
    "colab": {
      "name": "Untitled1.ipynb",
      "provenance": [],
      "collapsed_sections": [],
      "toc_visible": true,
      "authorship_tag": "ABX9TyObjgL2NamJwVejfk4ZY/eW",
      "include_colab_link": true
    },
    "kernelspec": {
      "name": "python3",
      "display_name": "Python 3"
    },
    "language_info": {
      "name": "python"
    }
  },
  "cells": [
    {
      "cell_type": "markdown",
      "metadata": {
        "id": "view-in-github",
        "colab_type": "text"
      },
      "source": [
        "<a href=\"https://colab.research.google.com/github/shaminkhan/gooddeeds/blob/master/Untitled1.ipynb\" target=\"_parent\"><img src=\"https://colab.research.google.com/assets/colab-badge.svg\" alt=\"Open In Colab\"/></a>"
      ]
    },
    {
      "cell_type": "code",
      "metadata": {
        "colab": {
          "base_uri": "https://localhost:8080/"
        },
        "id": "yZ6-MsjenGua",
        "outputId": "51c273f8-194f-4214-ff49-ce802c97e7b5"
      },
      "source": [
        "!pip install pyspatialml\n",
        "!pip install rioxarray\n",
        "!pip install earthpy"
      ],
      "execution_count": null,
      "outputs": [
        {
          "output_type": "stream",
          "text": [
            "Requirement already satisfied: pyspatialml in /usr/local/lib/python3.7/dist-packages (0.13)\n",
            "Requirement already satisfied: shapely>=1.6 in /usr/local/lib/python3.7/dist-packages (from pyspatialml) (1.7.1)\n",
            "Requirement already satisfied: pandas>=0.20 in /usr/local/lib/python3.7/dist-packages (from pyspatialml) (1.1.5)\n",
            "Requirement already satisfied: geopandas>=0.3 in /usr/local/lib/python3.7/dist-packages (from pyspatialml) (0.9.0)\n",
            "Requirement already satisfied: rasterio>=1.0 in /usr/local/lib/python3.7/dist-packages (from pyspatialml) (1.2.3)\n",
            "Requirement already satisfied: matplotlib>=2.2.4 in /usr/local/lib/python3.7/dist-packages (from pyspatialml) (3.2.2)\n",
            "Requirement already satisfied: numpy>=1.10.0 in /usr/local/lib/python3.7/dist-packages (from pyspatialml) (1.19.5)\n",
            "Requirement already satisfied: scipy>1.0.0 in /usr/local/lib/python3.7/dist-packages (from pyspatialml) (1.4.1)\n",
            "Requirement already satisfied: tqdm>=4.20 in /usr/local/lib/python3.7/dist-packages (from pyspatialml) (4.41.1)\n",
            "Requirement already satisfied: scikit-learn>=0.22 in /usr/local/lib/python3.7/dist-packages (from pyspatialml) (0.22.2.post1)\n",
            "Requirement already satisfied: pytz>=2017.2 in /usr/local/lib/python3.7/dist-packages (from pandas>=0.20->pyspatialml) (2018.9)\n",
            "Requirement already satisfied: python-dateutil>=2.7.3 in /usr/local/lib/python3.7/dist-packages (from pandas>=0.20->pyspatialml) (2.8.1)\n",
            "Requirement already satisfied: pyproj>=2.2.0 in /usr/local/lib/python3.7/dist-packages (from geopandas>=0.3->pyspatialml) (3.0.1)\n",
            "Requirement already satisfied: fiona>=1.8 in /usr/local/lib/python3.7/dist-packages (from geopandas>=0.3->pyspatialml) (1.8.19)\n",
            "Requirement already satisfied: click-plugins in /usr/local/lib/python3.7/dist-packages (from rasterio>=1.0->pyspatialml) (1.1.1)\n",
            "Requirement already satisfied: affine in /usr/local/lib/python3.7/dist-packages (from rasterio>=1.0->pyspatialml) (2.3.0)\n",
            "Requirement already satisfied: attrs in /usr/local/lib/python3.7/dist-packages (from rasterio>=1.0->pyspatialml) (21.2.0)\n",
            "Requirement already satisfied: click<8,>=4.0 in /usr/local/lib/python3.7/dist-packages (from rasterio>=1.0->pyspatialml) (7.1.2)\n",
            "Requirement already satisfied: snuggs>=1.4.1 in /usr/local/lib/python3.7/dist-packages (from rasterio>=1.0->pyspatialml) (1.4.7)\n",
            "Requirement already satisfied: cligj>=0.5 in /usr/local/lib/python3.7/dist-packages (from rasterio>=1.0->pyspatialml) (0.7.1)\n",
            "Requirement already satisfied: certifi in /usr/local/lib/python3.7/dist-packages (from rasterio>=1.0->pyspatialml) (2020.12.5)\n",
            "Requirement already satisfied: cycler>=0.10 in /usr/local/lib/python3.7/dist-packages (from matplotlib>=2.2.4->pyspatialml) (0.10.0)\n",
            "Requirement already satisfied: kiwisolver>=1.0.1 in /usr/local/lib/python3.7/dist-packages (from matplotlib>=2.2.4->pyspatialml) (1.3.1)\n",
            "Requirement already satisfied: pyparsing!=2.0.4,!=2.1.2,!=2.1.6,>=2.0.1 in /usr/local/lib/python3.7/dist-packages (from matplotlib>=2.2.4->pyspatialml) (2.4.7)\n",
            "Requirement already satisfied: joblib>=0.11 in /usr/local/lib/python3.7/dist-packages (from scikit-learn>=0.22->pyspatialml) (1.0.1)\n",
            "Requirement already satisfied: six>=1.5 in /usr/local/lib/python3.7/dist-packages (from python-dateutil>=2.7.3->pandas>=0.20->pyspatialml) (1.15.0)\n",
            "Requirement already satisfied: munch in /usr/local/lib/python3.7/dist-packages (from fiona>=1.8->geopandas>=0.3->pyspatialml) (2.5.0)\n",
            "Requirement already satisfied: rioxarray in /usr/local/lib/python3.7/dist-packages (0.4.0)\n",
            "Requirement already satisfied: xarray>=0.17 in /usr/local/lib/python3.7/dist-packages (from rioxarray) (0.18.0)\n",
            "Requirement already satisfied: pyproj>=2.2 in /usr/local/lib/python3.7/dist-packages (from rioxarray) (3.0.1)\n",
            "Requirement already satisfied: rasterio in /usr/local/lib/python3.7/dist-packages (from rioxarray) (1.2.3)\n",
            "Requirement already satisfied: scipy in /usr/local/lib/python3.7/dist-packages (from rioxarray) (1.4.1)\n",
            "Requirement already satisfied: pandas>=1.0 in /usr/local/lib/python3.7/dist-packages (from xarray>=0.17->rioxarray) (1.1.5)\n",
            "Requirement already satisfied: numpy>=1.17 in /usr/local/lib/python3.7/dist-packages (from xarray>=0.17->rioxarray) (1.19.5)\n",
            "Requirement already satisfied: setuptools>=40.4 in /usr/local/lib/python3.7/dist-packages (from xarray>=0.17->rioxarray) (56.1.0)\n",
            "Requirement already satisfied: certifi in /usr/local/lib/python3.7/dist-packages (from pyproj>=2.2->rioxarray) (2020.12.5)\n",
            "Requirement already satisfied: click<8,>=4.0 in /usr/local/lib/python3.7/dist-packages (from rasterio->rioxarray) (7.1.2)\n",
            "Requirement already satisfied: snuggs>=1.4.1 in /usr/local/lib/python3.7/dist-packages (from rasterio->rioxarray) (1.4.7)\n",
            "Requirement already satisfied: attrs in /usr/local/lib/python3.7/dist-packages (from rasterio->rioxarray) (21.2.0)\n",
            "Requirement already satisfied: affine in /usr/local/lib/python3.7/dist-packages (from rasterio->rioxarray) (2.3.0)\n",
            "Requirement already satisfied: cligj>=0.5 in /usr/local/lib/python3.7/dist-packages (from rasterio->rioxarray) (0.7.1)\n",
            "Requirement already satisfied: click-plugins in /usr/local/lib/python3.7/dist-packages (from rasterio->rioxarray) (1.1.1)\n",
            "Requirement already satisfied: pytz>=2017.2 in /usr/local/lib/python3.7/dist-packages (from pandas>=1.0->xarray>=0.17->rioxarray) (2018.9)\n",
            "Requirement already satisfied: python-dateutil>=2.7.3 in /usr/local/lib/python3.7/dist-packages (from pandas>=1.0->xarray>=0.17->rioxarray) (2.8.1)\n",
            "Requirement already satisfied: pyparsing>=2.1.6 in /usr/local/lib/python3.7/dist-packages (from snuggs>=1.4.1->rasterio->rioxarray) (2.4.7)\n",
            "Requirement already satisfied: six>=1.5 in /usr/local/lib/python3.7/dist-packages (from python-dateutil>=2.7.3->pandas>=1.0->xarray>=0.17->rioxarray) (1.15.0)\n",
            "Collecting earthpy\n",
            "\u001b[?25l  Downloading https://files.pythonhosted.org/packages/2d/ee/30cd183c5b58c967ec52bb3bd8decc0a1798f15c94898b84e6ee6b0baa39/earthpy-0.9.2.tar.gz (1.4MB)\n",
            "\u001b[K     |████████████████████████████████| 1.4MB 2.9MB/s \n",
            "\u001b[?25h  Installing build dependencies ... \u001b[?25l\u001b[?25hdone\n",
            "  Getting requirements to build wheel ... \u001b[?25l\u001b[?25hdone\n",
            "    Preparing wheel metadata ... \u001b[?25l\u001b[?25hdone\n",
            "Requirement already satisfied: geopandas in /usr/local/lib/python3.7/dist-packages (from earthpy) (0.9.0)\n",
            "Requirement already satisfied: rasterio in /usr/local/lib/python3.7/dist-packages (from earthpy) (1.2.3)\n",
            "Requirement already satisfied: requests in /usr/local/lib/python3.7/dist-packages (from earthpy) (2.23.0)\n",
            "Requirement already satisfied: scikit-image in /usr/local/lib/python3.7/dist-packages (from earthpy) (0.16.2)\n",
            "Requirement already satisfied: matplotlib>=2.0.0 in /usr/local/lib/python3.7/dist-packages (from earthpy) (3.2.2)\n",
            "Requirement already satisfied: numpy>=1.14.0 in /usr/local/lib/python3.7/dist-packages (from earthpy) (1.19.5)\n",
            "Requirement already satisfied: shapely>=1.6 in /usr/local/lib/python3.7/dist-packages (from geopandas->earthpy) (1.7.1)\n",
            "Requirement already satisfied: fiona>=1.8 in /usr/local/lib/python3.7/dist-packages (from geopandas->earthpy) (1.8.19)\n",
            "Requirement already satisfied: pyproj>=2.2.0 in /usr/local/lib/python3.7/dist-packages (from geopandas->earthpy) (3.0.1)\n",
            "Requirement already satisfied: pandas>=0.24.0 in /usr/local/lib/python3.7/dist-packages (from geopandas->earthpy) (1.1.5)\n",
            "Requirement already satisfied: attrs in /usr/local/lib/python3.7/dist-packages (from rasterio->earthpy) (21.2.0)\n",
            "Requirement already satisfied: certifi in /usr/local/lib/python3.7/dist-packages (from rasterio->earthpy) (2020.12.5)\n",
            "Requirement already satisfied: cligj>=0.5 in /usr/local/lib/python3.7/dist-packages (from rasterio->earthpy) (0.7.1)\n",
            "Requirement already satisfied: click<8,>=4.0 in /usr/local/lib/python3.7/dist-packages (from rasterio->earthpy) (7.1.2)\n",
            "Requirement already satisfied: click-plugins in /usr/local/lib/python3.7/dist-packages (from rasterio->earthpy) (1.1.1)\n",
            "Requirement already satisfied: affine in /usr/local/lib/python3.7/dist-packages (from rasterio->earthpy) (2.3.0)\n",
            "Requirement already satisfied: snuggs>=1.4.1 in /usr/local/lib/python3.7/dist-packages (from rasterio->earthpy) (1.4.7)\n",
            "Requirement already satisfied: idna<3,>=2.5 in /usr/local/lib/python3.7/dist-packages (from requests->earthpy) (2.10)\n",
            "Requirement already satisfied: chardet<4,>=3.0.2 in /usr/local/lib/python3.7/dist-packages (from requests->earthpy) (3.0.4)\n",
            "Requirement already satisfied: urllib3!=1.25.0,!=1.25.1,<1.26,>=1.21.1 in /usr/local/lib/python3.7/dist-packages (from requests->earthpy) (1.24.3)\n",
            "Requirement already satisfied: scipy>=0.19.0 in /usr/local/lib/python3.7/dist-packages (from scikit-image->earthpy) (1.4.1)\n",
            "Requirement already satisfied: PyWavelets>=0.4.0 in /usr/local/lib/python3.7/dist-packages (from scikit-image->earthpy) (1.1.1)\n",
            "Requirement already satisfied: networkx>=2.0 in /usr/local/lib/python3.7/dist-packages (from scikit-image->earthpy) (2.5.1)\n",
            "Requirement already satisfied: pillow>=4.3.0 in /usr/local/lib/python3.7/dist-packages (from scikit-image->earthpy) (7.1.2)\n",
            "Requirement already satisfied: imageio>=2.3.0 in /usr/local/lib/python3.7/dist-packages (from scikit-image->earthpy) (2.4.1)\n",
            "Requirement already satisfied: python-dateutil>=2.1 in /usr/local/lib/python3.7/dist-packages (from matplotlib>=2.0.0->earthpy) (2.8.1)\n",
            "Requirement already satisfied: cycler>=0.10 in /usr/local/lib/python3.7/dist-packages (from matplotlib>=2.0.0->earthpy) (0.10.0)\n",
            "Requirement already satisfied: kiwisolver>=1.0.1 in /usr/local/lib/python3.7/dist-packages (from matplotlib>=2.0.0->earthpy) (1.3.1)\n",
            "Requirement already satisfied: pyparsing!=2.0.4,!=2.1.2,!=2.1.6,>=2.0.1 in /usr/local/lib/python3.7/dist-packages (from matplotlib>=2.0.0->earthpy) (2.4.7)\n",
            "Requirement already satisfied: munch in /usr/local/lib/python3.7/dist-packages (from fiona>=1.8->geopandas->earthpy) (2.5.0)\n",
            "Requirement already satisfied: six>=1.7 in /usr/local/lib/python3.7/dist-packages (from fiona>=1.8->geopandas->earthpy) (1.15.0)\n",
            "Requirement already satisfied: pytz>=2017.2 in /usr/local/lib/python3.7/dist-packages (from pandas>=0.24.0->geopandas->earthpy) (2018.9)\n",
            "Requirement already satisfied: decorator<5,>=4.3 in /usr/local/lib/python3.7/dist-packages (from networkx>=2.0->scikit-image->earthpy) (4.4.2)\n",
            "Building wheels for collected packages: earthpy\n",
            "  Building wheel for earthpy (PEP 517) ... \u001b[?25l\u001b[?25hdone\n",
            "  Created wheel for earthpy: filename=earthpy-0.9.2-cp37-none-any.whl size=1365089 sha256=020999aa62dd539451af55df82a81adaa30b6e2d1640818fb8606d42def55498\n",
            "  Stored in directory: /root/.cache/pip/wheels/27/f9/a5/026bb95ef7b12f9343b842da6897b4001c5b902550095cbbbe\n",
            "Successfully built earthpy\n",
            "Installing collected packages: earthpy\n",
            "Successfully installed earthpy-0.9.2\n"
          ],
          "name": "stdout"
        }
      ]
    },
    {
      "cell_type": "code",
      "metadata": {
        "id": "R3dFx9sZkmkR"
      },
      "source": [
        "import pandas as pd\n",
        "import seaborn as sns\n",
        "import numpy as np\n",
        "import matplotlib.pyplot as plt\n",
        "from sklearn import preprocessing\n",
        "from sklearn import metrics\n",
        "from sklearn.model_selection import train_test_split\n",
        "from sklearn.model_selection import GridSearchCV\n",
        "from sklearn.metrics import roc_auc_score\n",
        "from sklearn.metrics import confusion_matrix\n",
        "from sklearn.metrics import classification_report\n",
        "from sklearn.ensemble import RandomForestClassifier\n",
        "from sklearn.neighbors import KNeighborsClassifier\n",
        "from sklearn.metrics import roc_curve\n",
        "from sklearn.metrics import mean_squared_error\n",
        "from sklearn.preprocessing import StandardScaler\n",
        "from sklearn.svm import SVC\n",
        "import pyspatialml as pml\n",
        "import rasterio as rio\n",
        "import rioxarray as rxr\n",
        "import earthpy as et"
      ],
      "execution_count": null,
      "outputs": []
    },
    {
      "cell_type": "code",
      "metadata": {
        "id": "aUL4ViJgn7mb"
      },
      "source": [
        "train = pd.read_csv('/Training.csv')\n",
        "test = pd.read_csv('/Testing.csv')\n"
      ],
      "execution_count": null,
      "outputs": []
    },
    {
      "cell_type": "code",
      "metadata": {
        "id": "ysIlh6P9pc1I"
      },
      "source": [
        "train=train.fillna(0)\n",
        "test=test.fillna(0)"
      ],
      "execution_count": null,
      "outputs": []
    },
    {
      "cell_type": "code",
      "metadata": {
        "colab": {
          "base_uri": "https://localhost:8080/",
          "height": 195
        },
        "id": "wf3xMPINpg_F",
        "outputId": "4b3c5d89-aee0-4fa7-9e9f-38c505a08ab4"
      },
      "source": [
        "train.head()\n",
        "test.head()"
      ],
      "execution_count": null,
      "outputs": [
        {
          "output_type": "execute_result",
          "data": {
            "text/html": [
              "<div>\n",
              "<style scoped>\n",
              "    .dataframe tbody tr th:only-of-type {\n",
              "        vertical-align: middle;\n",
              "    }\n",
              "\n",
              "    .dataframe tbody tr th {\n",
              "        vertical-align: top;\n",
              "    }\n",
              "\n",
              "    .dataframe thead th {\n",
              "        text-align: right;\n",
              "    }\n",
              "</style>\n",
              "<table border=\"1\" class=\"dataframe\">\n",
              "  <thead>\n",
              "    <tr style=\"text-align: right;\">\n",
              "      <th></th>\n",
              "      <th>Testing</th>\n",
              "      <th>PRECIPITATION</th>\n",
              "      <th>ROADS</th>\n",
              "      <th>FAULTS</th>\n",
              "      <th>ELEVATION</th>\n",
              "      <th>GEOLOGY</th>\n",
              "      <th>LANDCOVER</th>\n",
              "      <th>STREAMS</th>\n",
              "      <th>ASPECT</th>\n",
              "      <th>SLOPE</th>\n",
              "    </tr>\n",
              "  </thead>\n",
              "  <tbody>\n",
              "    <tr>\n",
              "      <th>0</th>\n",
              "      <td>1</td>\n",
              "      <td>2</td>\n",
              "      <td>1.0</td>\n",
              "      <td>0.0</td>\n",
              "      <td>1430.960076</td>\n",
              "      <td>1</td>\n",
              "      <td>7</td>\n",
              "      <td>0.0</td>\n",
              "      <td>1</td>\n",
              "      <td>35.036788</td>\n",
              "    </tr>\n",
              "    <tr>\n",
              "      <th>1</th>\n",
              "      <td>1</td>\n",
              "      <td>2</td>\n",
              "      <td>1.0</td>\n",
              "      <td>0.0</td>\n",
              "      <td>1444.038044</td>\n",
              "      <td>1</td>\n",
              "      <td>5</td>\n",
              "      <td>0.0</td>\n",
              "      <td>1</td>\n",
              "      <td>34.533801</td>\n",
              "    </tr>\n",
              "    <tr>\n",
              "      <th>2</th>\n",
              "      <td>1</td>\n",
              "      <td>3</td>\n",
              "      <td>1.0</td>\n",
              "      <td>0.0</td>\n",
              "      <td>1450.409363</td>\n",
              "      <td>2</td>\n",
              "      <td>5</td>\n",
              "      <td>0.0</td>\n",
              "      <td>2</td>\n",
              "      <td>45.959206</td>\n",
              "    </tr>\n",
              "    <tr>\n",
              "      <th>3</th>\n",
              "      <td>1</td>\n",
              "      <td>3</td>\n",
              "      <td>1.0</td>\n",
              "      <td>0.0</td>\n",
              "      <td>1429.123884</td>\n",
              "      <td>2</td>\n",
              "      <td>7</td>\n",
              "      <td>0.0</td>\n",
              "      <td>2</td>\n",
              "      <td>41.265122</td>\n",
              "    </tr>\n",
              "    <tr>\n",
              "      <th>4</th>\n",
              "      <td>1</td>\n",
              "      <td>4</td>\n",
              "      <td>3.0</td>\n",
              "      <td>0.0</td>\n",
              "      <td>1339.794047</td>\n",
              "      <td>3</td>\n",
              "      <td>7</td>\n",
              "      <td>0.0</td>\n",
              "      <td>3</td>\n",
              "      <td>46.597050</td>\n",
              "    </tr>\n",
              "  </tbody>\n",
              "</table>\n",
              "</div>"
            ],
            "text/plain": [
              "   Testing  PRECIPITATION  ROADS  FAULTS  ...  LANDCOVER  STREAMS  ASPECT      SLOPE\n",
              "0        1              2    1.0     0.0  ...          7      0.0       1  35.036788\n",
              "1        1              2    1.0     0.0  ...          5      0.0       1  34.533801\n",
              "2        1              3    1.0     0.0  ...          5      0.0       2  45.959206\n",
              "3        1              3    1.0     0.0  ...          7      0.0       2  41.265122\n",
              "4        1              4    3.0     0.0  ...          7      0.0       3  46.597050\n",
              "\n",
              "[5 rows x 10 columns]"
            ]
          },
          "metadata": {
            "tags": []
          },
          "execution_count": 12
        }
      ]
    },
    {
      "cell_type": "code",
      "metadata": {
        "id": "CmZ5_U0Kpn5W"
      },
      "source": [
        "train_y = train['Training']\n",
        "train_x = train.drop(columns=['Training', 'ELEVATION'])\n",
        "test_y = test['Testing']\n",
        "test_x = test.drop(columns=['Testing', 'ELEVATION'])\n"
      ],
      "execution_count": null,
      "outputs": []
    },
    {
      "cell_type": "code",
      "metadata": {
        "colab": {
          "base_uri": "https://localhost:8080/"
        },
        "id": "e6YHjzeJpw3B",
        "outputId": "07c4e33d-acfa-4e12-c24a-437a93dfa2a5"
      },
      "source": [
        "train_y.head()"
      ],
      "execution_count": null,
      "outputs": [
        {
          "output_type": "execute_result",
          "data": {
            "text/plain": [
              "0    1\n",
              "1    1\n",
              "2    1\n",
              "3    1\n",
              "4    1\n",
              "Name: Training, dtype: int64"
            ]
          },
          "metadata": {
            "tags": []
          },
          "execution_count": 14
        }
      ]
    },
    {
      "cell_type": "code",
      "metadata": {
        "id": "8qyIJid-p3V9"
      },
      "source": [
        "param_grid = {\n",
        "    'bootstrap': [True],\n",
        "    'max_depth': [80, 90, 100, 110],\n",
        "    'max_features': [2, 3],\n",
        "    'min_samples_leaf': [3, 4, 5],\n",
        "    'min_samples_split': [8, 10, 12],\n",
        "    'n_estimators': [100, 200, 300, 1000]\n",
        "}\n",
        "rf = RandomForestClassifier()\n",
        "grid_search = GridSearchCV(estimator = rf, param_grid = param_grid, cv = 5, n_jobs = -1, verbose = 2)"
      ],
      "execution_count": null,
      "outputs": []
    },
    {
      "cell_type": "code",
      "metadata": {
        "colab": {
          "base_uri": "https://localhost:8080/"
        },
        "id": "AjyTjIz9p7Qv",
        "outputId": "90b22529-c320-49b6-d6e0-4ebbc62bfbdf"
      },
      "source": [
        "grid_search.fit(train_x, train_y)"
      ],
      "execution_count": null,
      "outputs": [
        {
          "output_type": "stream",
          "text": [
            "Fitting 5 folds for each of 288 candidates, totalling 1440 fits\n"
          ],
          "name": "stdout"
        },
        {
          "output_type": "stream",
          "text": [
            "[Parallel(n_jobs=-1)]: Using backend LokyBackend with 2 concurrent workers.\n",
            "[Parallel(n_jobs=-1)]: Done  37 tasks      | elapsed:   16.7s\n",
            "[Parallel(n_jobs=-1)]: Done 158 tasks      | elapsed:  1.3min\n",
            "[Parallel(n_jobs=-1)]: Done 361 tasks      | elapsed:  3.0min\n",
            "[Parallel(n_jobs=-1)]: Done 644 tasks      | elapsed:  5.3min\n",
            "[Parallel(n_jobs=-1)]: Done 1009 tasks      | elapsed:  8.3min\n",
            "[Parallel(n_jobs=-1)]: Done 1440 out of 1440 | elapsed: 11.9min finished\n"
          ],
          "name": "stderr"
        },
        {
          "output_type": "execute_result",
          "data": {
            "text/plain": [
              "GridSearchCV(cv=5, error_score=nan,\n",
              "             estimator=RandomForestClassifier(bootstrap=True, ccp_alpha=0.0,\n",
              "                                              class_weight=None,\n",
              "                                              criterion='gini', max_depth=None,\n",
              "                                              max_features='auto',\n",
              "                                              max_leaf_nodes=None,\n",
              "                                              max_samples=None,\n",
              "                                              min_impurity_decrease=0.0,\n",
              "                                              min_impurity_split=None,\n",
              "                                              min_samples_leaf=1,\n",
              "                                              min_samples_split=2,\n",
              "                                              min_weight_fraction_leaf=0.0,\n",
              "                                              n_estimators=100, n_jobs=None,\n",
              "                                              oob_score=False,\n",
              "                                              random_state=None, verbose=0,\n",
              "                                              warm_start=False),\n",
              "             iid='deprecated', n_jobs=-1,\n",
              "             param_grid={'bootstrap': [True], 'max_depth': [80, 90, 100, 110],\n",
              "                         'max_features': [2, 3], 'min_samples_leaf': [3, 4, 5],\n",
              "                         'min_samples_split': [8, 10, 12],\n",
              "                         'n_estimators': [100, 200, 300, 1000]},\n",
              "             pre_dispatch='2*n_jobs', refit=True, return_train_score=False,\n",
              "             scoring=None, verbose=2)"
            ]
          },
          "metadata": {
            "tags": []
          },
          "execution_count": 16
        }
      ]
    },
    {
      "cell_type": "code",
      "metadata": {
        "colab": {
          "base_uri": "https://localhost:8080/"
        },
        "id": "fqFtuRw6uoXr",
        "outputId": "e5c7b30d-175d-473a-c5d1-bb7665368457"
      },
      "source": [
        "grid_search.best_params_"
      ],
      "execution_count": null,
      "outputs": [
        {
          "output_type": "execute_result",
          "data": {
            "text/plain": [
              "{'bootstrap': True,\n",
              " 'max_depth': 90,\n",
              " 'max_features': 2,\n",
              " 'min_samples_leaf': 4,\n",
              " 'min_samples_split': 8,\n",
              " 'n_estimators': 100}"
            ]
          },
          "metadata": {
            "tags": []
          },
          "execution_count": 17
        }
      ]
    },
    {
      "cell_type": "code",
      "metadata": {
        "colab": {
          "base_uri": "https://localhost:8080/"
        },
        "id": "fQN1Mfzouydo",
        "outputId": "82c8f311-b249-4db0-c21c-a5d696f790ef"
      },
      "source": [
        "rf_mod = grid_search.best_estimator_\n",
        "print(rf_mod)\n",
        "rfc_pred = rf_mod.predict(test_x)"
      ],
      "execution_count": null,
      "outputs": [
        {
          "output_type": "stream",
          "text": [
            "RandomForestClassifier(bootstrap=True, ccp_alpha=0.0, class_weight=None,\n",
            "                       criterion='gini', max_depth=90, max_features=2,\n",
            "                       max_leaf_nodes=None, max_samples=None,\n",
            "                       min_impurity_decrease=0.0, min_impurity_split=None,\n",
            "                       min_samples_leaf=4, min_samples_split=8,\n",
            "                       min_weight_fraction_leaf=0.0, n_estimators=100,\n",
            "                       n_jobs=None, oob_score=False, random_state=None,\n",
            "                       verbose=0, warm_start=False)\n"
          ],
          "name": "stdout"
        }
      ]
    },
    {
      "cell_type": "code",
      "metadata": {
        "colab": {
          "base_uri": "https://localhost:8080/"
        },
        "id": "X1aI2nY2u1OG",
        "outputId": "e99f057b-4bd4-4bd1-86a2-ac54e88bfae4"
      },
      "source": [
        "RandomForestClassifier(max_depth=100, max_features=3, min_samples_leaf=4,\n",
        "                       min_samples_split=10, n_estimators=100)"
      ],
      "execution_count": null,
      "outputs": [
        {
          "output_type": "execute_result",
          "data": {
            "text/plain": [
              "RandomForestClassifier(bootstrap=True, ccp_alpha=0.0, class_weight=None,\n",
              "                       criterion='gini', max_depth=100, max_features=3,\n",
              "                       max_leaf_nodes=None, max_samples=None,\n",
              "                       min_impurity_decrease=0.0, min_impurity_split=None,\n",
              "                       min_samples_leaf=4, min_samples_split=10,\n",
              "                       min_weight_fraction_leaf=0.0, n_estimators=100,\n",
              "                       n_jobs=None, oob_score=False, random_state=None,\n",
              "                       verbose=0, warm_start=False)"
            ]
          },
          "metadata": {
            "tags": []
          },
          "execution_count": 19
        }
      ]
    },
    {
      "cell_type": "code",
      "metadata": {
        "colab": {
          "base_uri": "https://localhost:8080/"
        },
        "id": "IV4FJlDjvTQo",
        "outputId": "846020e1-5b0e-48de-da48-fcdece5fa891"
      },
      "source": [
        "print(confusion_matrix(test_y,rfc_pred))"
      ],
      "execution_count": null,
      "outputs": [
        {
          "output_type": "stream",
          "text": [
            "[[13  0]\n",
            " [40 50]]\n"
          ],
          "name": "stdout"
        }
      ]
    },
    {
      "cell_type": "code",
      "metadata": {
        "colab": {
          "base_uri": "https://localhost:8080/"
        },
        "id": "wxnIiW-vvbCJ",
        "outputId": "7908febc-6187-402f-f8ad-5a3f8f408633"
      },
      "source": [
        "print(classification_report(test_y, rfc_pred))"
      ],
      "execution_count": null,
      "outputs": [
        {
          "output_type": "stream",
          "text": [
            "              precision    recall  f1-score   support\n",
            "\n",
            "           0       0.25      1.00      0.39        13\n",
            "           1       1.00      0.56      0.71        90\n",
            "\n",
            "    accuracy                           0.61       103\n",
            "   macro avg       0.62      0.78      0.55       103\n",
            "weighted avg       0.90      0.61      0.67       103\n",
            "\n"
          ],
          "name": "stdout"
        }
      ]
    },
    {
      "cell_type": "code",
      "metadata": {
        "id": "sNnt3JMWvi6g"
      },
      "source": [
        "rfc_prob = rf_mod.predict_proba(test_x)"
      ],
      "execution_count": null,
      "outputs": []
    },
    {
      "cell_type": "code",
      "metadata": {
        "colab": {
          "base_uri": "https://localhost:8080/"
        },
        "id": "sDkt8FCzvnoV",
        "outputId": "e01c466d-ce39-4f8e-bf05-bd5758b2605a"
      },
      "source": [
        "my_dict = {0:0, 1:1}\n",
        "test_y3 = np.asarray([my_dict[zi] for zi in test_y])\n",
        "roc_auc_score(test_y3, rfc_prob[:,1])"
      ],
      "execution_count": null,
      "outputs": [
        {
          "output_type": "execute_result",
          "data": {
            "text/plain": [
              "0.8666666666666667"
            ]
          },
          "metadata": {
            "tags": []
          },
          "execution_count": 23
        }
      ]
    },
    {
      "cell_type": "code",
      "metadata": {
        "colab": {
          "base_uri": "https://localhost:8080/",
          "height": 295
        },
        "id": "rACA_V52vwwY",
        "outputId": "502f87c8-c66f-464e-df31-7f52230e10a4"
      },
      "source": [
        "fpr, tpr, _ = roc_curve(test_y3,  rfc_prob[:, 1])\n",
        "plt.plot(fpr,tpr, color ='red', lw=2, label=\"All Variables\")\n",
        "plt.plot([0, 1], [0, 1], color='navy', lw=2, linestyle='--')\n",
        "plt.xlim([-.05, 1.0])\n",
        "plt.ylim([-.05, 1.05])\n",
        "plt.xlabel('False Positive Rate')\n",
        "plt.ylabel('True Positive Rate')\n",
        "plt.title('ROC Curve')\n",
        "plt.legend(loc=\"lower right\")\n",
        "plt.show()"
      ],
      "execution_count": null,
      "outputs": [
        {
          "output_type": "display_data",
          "data": {
            "image/png": "[encoded data removed]",
            "text/plain": [
              "<Figure size 432x288 with 1 Axes>"
            ]
          },
          "metadata": {
            "tags": [],
            "needs_background": "light"
          }
        }
      ]
    },
    {
      "cell_type": "code",
      "metadata": {
        "id": "eKd4tnKIvz_w"
      },
      "source": [
        "train_y = train['Training']\n",
        "train_x = train.drop(columns=['Training', 'ELEVATION'])\n",
        "test_y = test['Testing']\n",
        "test_x = test.drop(columns=['Testing', 'ELEVATION'])\n",
        "\n",
        "train_x_slp = pd.DataFrame(train['SLOPE'])\n",
        "test_x_slp = pd.DataFrame(test['SLOPE'])\n",
        "\n",
        "train_x_slp_pre = train[['SLOPE', 'PRECIPITATION']]\n",
        "test_x_slp_pre = test[['SLOPE', 'PRECIPITATION']]"
      ],
      "execution_count": null,
      "outputs": []
    },
    {
      "cell_type": "code",
      "metadata": {
        "id": "oh7r7gjBv0DW"
      },
      "source": [
        "rf1 = RandomForestClassifier(n_estimators=200)\n",
        "rf_model1 = rf1.fit(train_x, train_y)\n",
        "rf2 = RandomForestClassifier(n_estimators=200)\n",
        "rf_model2 = rf2.fit(train_x_slp, train_y)\n",
        "rf3 = RandomForestClassifier(n_estimators=200)\n",
        "rf_model3 = rf3.fit(train_x_slp_pre, train_y)"
      ],
      "execution_count": null,
      "outputs": []
    },
    {
      "cell_type": "code",
      "metadata": {
        "colab": {
          "base_uri": "https://localhost:8080/"
        },
        "id": "owMMqMNlwAOZ",
        "outputId": "9941101f-fe5c-44d1-f8b9-259f89d80d24"
      },
      "source": [
        "pred_model1= rf_model1.predict(test_x)\n",
        "pred_model2 = rf_model2.predict(test_x_slp)\n",
        "pred_model3 = rf_model3.predict(test_x_slp_pre)\n",
        "print(classification_report(test_y, pred_model1))\n",
        "print(classification_report(test_y, pred_model2))\n",
        "print(classification_report(test_y, pred_model3))"
      ],
      "execution_count": null,
      "outputs": [
        {
          "output_type": "stream",
          "text": [
            "              precision    recall  f1-score   support\n",
            "\n",
            "           0       0.13      1.00      0.22        13\n",
            "           1       0.00      0.00      0.00        90\n",
            "\n",
            "    accuracy                           0.13       103\n",
            "   macro avg       0.06      0.50      0.11       103\n",
            "weighted avg       0.02      0.13      0.03       103\n",
            "\n",
            "              precision    recall  f1-score   support\n",
            "\n",
            "           0       0.50      0.77      0.61        13\n",
            "           1       0.96      0.89      0.92        90\n",
            "\n",
            "    accuracy                           0.87       103\n",
            "   macro avg       0.73      0.83      0.77       103\n",
            "weighted avg       0.91      0.87      0.88       103\n",
            "\n",
            "              precision    recall  f1-score   support\n",
            "\n",
            "           0       0.56      0.77      0.65        13\n",
            "           1       0.96      0.91      0.94        90\n",
            "\n",
            "    accuracy                           0.89       103\n",
            "   macro avg       0.76      0.84      0.79       103\n",
            "weighted avg       0.91      0.89      0.90       103\n",
            "\n"
          ],
          "name": "stdout"
        },
        {
          "output_type": "stream",
          "text": [
            "/usr/local/lib/python3.7/dist-packages/sklearn/metrics/_classification.py:1272: UndefinedMetricWarning: Precision and F-score are ill-defined and being set to 0.0 in labels with no predicted samples. Use `zero_division` parameter to control this behavior.\n",
            "  _warn_prf(average, modifier, msg_start, len(result))\n"
          ],
          "name": "stderr"
        }
      ]
    },
    {
      "cell_type": "code",
      "metadata": {
        "colab": {
          "base_uri": "https://localhost:8080/"
        },
        "id": "4RZ7pOGPwL8u",
        "outputId": "990b3d36-8a3a-45fb-8c0d-bb18f4ff6746"
      },
      "source": [
        "test_y2 = test_y\n",
        "my_dict = {0:0, 1:1}\n",
        "test_y3 = np.asarray([my_dict[zi] for zi in test_y2])\n",
        "\n",
        "rfc_prob1 = rf_model1.predict_proba(test_x)\n",
        "rfc_prob2 = rf_model2.predict_proba(test_x_slp)\n",
        "rfc_prob3 = rf_model3.predict_proba(test_x_slp_pre)\n",
        "\n",
        "print(\"All Variables: \" + str(roc_auc_score(test_y3, rfc_prob1[:,1])))\n",
        "print(\"Just Slope: \" + str(roc_auc_score(test_y3, rfc_prob2[:,1])))\n",
        "print(\"Slope + precipitation: \" + str(roc_auc_score(test_y3, rfc_prob3[:,1])))  "
      ],
      "execution_count": null,
      "outputs": [
        {
          "output_type": "stream",
          "text": [
            "All Variables: 0.8423076923076923\n",
            "Just Slope: 0.935042735042735\n",
            "Slope + precipitation: 0.9418803418803419\n"
          ],
          "name": "stdout"
        }
      ]
    },
    {
      "cell_type": "code",
      "metadata": {
        "colab": {
          "base_uri": "https://localhost:8080/"
        },
        "id": "jEBbrROawPqq",
        "outputId": "b8eadc9b-1c32-424a-9fef-21b9c6813c6e"
      },
      "source": [
        "print(rfc_prob1)"
      ],
      "execution_count": null,
      "outputs": [
        {
          "output_type": "stream",
          "text": [
            "[[0.685 0.315]\n",
            " [0.535 0.465]\n",
            " [0.55  0.45 ]\n",
            " [0.67  0.33 ]\n",
            " [0.645 0.355]\n",
            " [0.645 0.355]\n",
            " [0.53  0.47 ]\n",
            " [0.91  0.09 ]\n",
            " [0.675 0.325]\n",
            " [0.675 0.325]\n",
            " [0.7   0.3  ]\n",
            " [0.675 0.325]\n",
            " [0.675 0.325]\n",
            " [0.675 0.325]\n",
            " [0.955 0.045]\n",
            " [0.955 0.045]\n",
            " [0.945 0.055]\n",
            " [0.575 0.425]\n",
            " [0.57  0.43 ]\n",
            " [0.7   0.3  ]\n",
            " [0.675 0.325]\n",
            " [0.57  0.43 ]\n",
            " [0.71  0.29 ]\n",
            " [0.72  0.28 ]\n",
            " [0.71  0.29 ]\n",
            " [0.71  0.29 ]\n",
            " [0.7   0.3  ]\n",
            " [0.71  0.29 ]\n",
            " [0.71  0.29 ]\n",
            " [0.995 0.005]\n",
            " [0.995 0.005]\n",
            " [0.995 0.005]\n",
            " [0.96  0.04 ]\n",
            " [0.955 0.045]\n",
            " [0.96  0.04 ]\n",
            " [0.59  0.41 ]\n",
            " [0.71  0.29 ]\n",
            " [0.57  0.43 ]\n",
            " [0.71  0.29 ]\n",
            " [0.955 0.045]\n",
            " [0.7   0.3  ]\n",
            " [0.64  0.36 ]\n",
            " [0.715 0.285]\n",
            " [0.635 0.365]\n",
            " [0.655 0.345]\n",
            " [0.675 0.325]\n",
            " [0.645 0.355]\n",
            " [0.7   0.3  ]\n",
            " [0.635 0.365]\n",
            " [0.68  0.32 ]\n",
            " [0.61  0.39 ]\n",
            " [0.615 0.385]\n",
            " [0.675 0.325]\n",
            " [0.675 0.325]\n",
            " [0.6   0.4  ]\n",
            " [0.565 0.435]\n",
            " [0.685 0.315]\n",
            " [0.58  0.42 ]\n",
            " [0.955 0.045]\n",
            " [0.705 0.295]\n",
            " [0.665 0.335]\n",
            " [0.7   0.3  ]\n",
            " [0.7   0.3  ]\n",
            " [0.705 0.295]\n",
            " [0.705 0.295]\n",
            " [0.97  0.03 ]\n",
            " [0.675 0.325]\n",
            " [0.68  0.32 ]\n",
            " [0.66  0.34 ]\n",
            " [0.985 0.015]\n",
            " [0.675 0.325]\n",
            " [0.62  0.38 ]\n",
            " [0.675 0.325]\n",
            " [0.68  0.32 ]\n",
            " [0.985 0.015]\n",
            " [0.69  0.31 ]\n",
            " [0.985 0.015]\n",
            " [0.675 0.325]\n",
            " [0.67  0.33 ]\n",
            " [0.68  0.32 ]\n",
            " [0.69  0.31 ]\n",
            " [0.67  0.33 ]\n",
            " [0.66  0.34 ]\n",
            " [0.675 0.325]\n",
            " [0.975 0.025]\n",
            " [0.7   0.3  ]\n",
            " [0.67  0.33 ]\n",
            " [0.675 0.325]\n",
            " [0.66  0.34 ]\n",
            " [0.66  0.34 ]\n",
            " [0.96  0.04 ]\n",
            " [0.965 0.035]\n",
            " [0.955 0.045]\n",
            " [0.65  0.35 ]\n",
            " [0.96  0.04 ]\n",
            " [0.925 0.075]\n",
            " [0.96  0.04 ]\n",
            " [0.995 0.005]\n",
            " [0.97  0.03 ]\n",
            " [0.995 0.005]\n",
            " [0.765 0.235]\n",
            " [0.925 0.075]\n",
            " [0.97  0.03 ]]\n"
          ],
          "name": "stdout"
        }
      ]
    },
    {
      "cell_type": "code",
      "metadata": {
        "colab": {
          "base_uri": "https://localhost:8080/",
          "height": 295
        },
        "id": "fzvxWHw7wUn3",
        "outputId": "bb62e5b1-509b-4427-ec15-1edb4a983a19"
      },
      "source": [
        "fpr1, tpr1, _ = roc_curve(test_y3,  rfc_prob1[:, 1])\n",
        "fpr2, tpr2, _ = roc_curve(test_y3,  rfc_prob2[:, 1])\n",
        "fpr3, tpr3, _ = roc_curve(test_y3,  rfc_prob3[:, 1])\n",
        "plt.plot(fpr1,tpr1, color ='red', lw=2, label=\"All Variables\")\n",
        "plt.plot(fpr2,tpr2, color ='green', lw=2, label=\"Slope\")\n",
        "plt.plot(fpr3,tpr3, color ='blue', lw=2, label=\"Slope + precipitation\")\n",
        "plt.plot([0, 1], [0, 1], color='navy', lw=2, linestyle='--')\n",
        "plt.xlim([-.05, 1.0])\n",
        "plt.ylim([-.05, 1.05])\n",
        "plt.xlabel('False Positive Rate')\n",
        "plt.ylabel('True Positive Rate')\n",
        "plt.title('Compare Feature Space')\n",
        "plt.legend(loc=\"lower right\")\n",
        "plt.show()"
      ],
      "execution_count": null,
      "outputs": [
        {
          "output_type": "display_data",
          "data": {
            "image/png": "[encoded data removed]",
            "text/plain": [
              "<Figure size 432x288 with 1 Axes>"
            ]
          },
          "metadata": {
            "tags": [],
            "needs_background": "light"
          }
        }
      ]
    },
    {
      "cell_type": "code",
      "metadata": {
        "colab": {
          "base_uri": "https://localhost:8080/"
        },
        "id": "FcVl6pY4whoG",
        "outputId": "30109424-1e8c-4e30-b614-0f5a132e299c"
      },
      "source": [
        "train_x_sub = train[['SLOPE', 'PRECIPITATION']]\n",
        "test_x_sub = test[['SLOPE', 'PRECIPITATION']]\n",
        "\n",
        "scaler = StandardScaler()\n",
        "scale_fit = scaler.fit(train_x_sub)\n",
        "train_x2 = pd.DataFrame(scale_fit.transform(train_x_sub))\n",
        "train_x2.columns = ['SLOPE', 'PRECIPITATION']\n",
        "test_x2 = pd.DataFrame(scale_fit.transform(test_x_sub))\n",
        "test_x2.columns = ['SLOPE', 'PRECIPITATION']\n",
        "print(train_x_sub.head())\n",
        "print(train_x2.head())"
      ],
      "execution_count": null,
      "outputs": [
        {
          "output_type": "stream",
          "text": [
            "       SLOPE  PRECIPITATION\n",
            "0  31.914894            1.0\n",
            "1  48.094488            1.0\n",
            "2  45.622544            1.0\n",
            "3  32.786757            2.0\n",
            "4   6.315291            1.0\n",
            "      SLOPE  PRECIPITATION\n",
            "0  0.814251      -0.914319\n",
            "1  2.003068      -0.914319\n",
            "2  1.821439      -0.914319\n",
            "3  0.878313       0.089696\n",
            "4 -1.066713      -0.914319\n"
          ],
          "name": "stdout"
        }
      ]
    },
    {
      "cell_type": "code",
      "metadata": {
        "id": "yO1pg4bgwklD"
      },
      "source": [
        "rf_comp =  RandomForestClassifier(n_estimators=200)\n",
        "knn_comp = KNeighborsClassifier(n_neighbors=7)\n",
        "svm_comp =  SVC()\n",
        "\n",
        "rf_compM = rf_comp.fit(train_x2, train_y)\n",
        "knn_compM = knn_comp.fit(train_x2, train_y)\n",
        "svm_compM = rf_comp.fit(train_x2, train_y)"
      ],
      "execution_count": null,
      "outputs": []
    },
    {
      "cell_type": "code",
      "metadata": {
        "colab": {
          "base_uri": "https://localhost:8080/"
        },
        "id": "pfi9FCJmwtJn",
        "outputId": "ea60ef3e-ae0a-4ec1-e9e4-74b62536a592"
      },
      "source": [
        "pred_rf_comp= rf_compM.predict(test_x2)\n",
        "pred_knn_comp = knn_compM.predict(test_x2)\n",
        "pred_svm_comp = svm_compM.predict(test_x2)\n",
        "print(classification_report(test_y, pred_rf_comp))\n",
        "print(classification_report(test_y, pred_knn_comp))\n",
        "print(classification_report(test_y, pred_svm_comp))"
      ],
      "execution_count": null,
      "outputs": [
        {
          "output_type": "stream",
          "text": [
            "              precision    recall  f1-score   support\n",
            "\n",
            "           0       0.56      0.77      0.65        13\n",
            "           1       0.96      0.91      0.94        90\n",
            "\n",
            "    accuracy                           0.89       103\n",
            "   macro avg       0.76      0.84      0.79       103\n",
            "weighted avg       0.91      0.89      0.90       103\n",
            "\n",
            "              precision    recall  f1-score   support\n",
            "\n",
            "           0       0.59      0.77      0.67        13\n",
            "           1       0.97      0.92      0.94        90\n",
            "\n",
            "    accuracy                           0.90       103\n",
            "   macro avg       0.78      0.85      0.80       103\n",
            "weighted avg       0.92      0.90      0.91       103\n",
            "\n",
            "              precision    recall  f1-score   support\n",
            "\n",
            "           0       0.56      0.77      0.65        13\n",
            "           1       0.96      0.91      0.94        90\n",
            "\n",
            "    accuracy                           0.89       103\n",
            "   macro avg       0.76      0.84      0.79       103\n",
            "weighted avg       0.91      0.89      0.90       103\n",
            "\n"
          ],
          "name": "stdout"
        }
      ]
    },
    {
      "cell_type": "code",
      "metadata": {
        "colab": {
          "base_uri": "https://localhost:8080/"
        },
        "id": "Z8_TvWrlx-cH",
        "outputId": "3a28d16c-1c98-41c8-b26f-c3a9add45aa0"
      },
      "source": [
        "test_y2 = test_y\n",
        "my_dict = {0:0, 1:1}\n",
        "test_y3 = np.asarray([my_dict[zi] for zi in test_y2])\n",
        "\n",
        "rf_comp_prob = rf_compM.predict_proba(test_x2)\n",
        "knn_comp_prob = knn_compM.predict_proba(test_x2)\n",
        "svm_comp_prob = svm_compM.predict_proba(test_x2)\n",
        "\n",
        "print(\"RF: \" + str(roc_auc_score(test_y3, rf_comp_prob[:,1])))\n",
        "print(\"K-NN: \" + str(roc_auc_score(test_y3, knn_comp_prob[:,1])))\n",
        "print(\"SVM: \" + str(roc_auc_score(test_y3, svm_comp_prob[:,1]))) "
      ],
      "execution_count": null,
      "outputs": [
        {
          "output_type": "stream",
          "text": [
            "RF: 0.9354700854700855\n",
            "K-NN: 0.9448717948717948\n",
            "SVM: 0.9354700854700855\n"
          ],
          "name": "stdout"
        }
      ]
    },
    {
      "cell_type": "code",
      "metadata": {
        "id": "B7ohPozPyGhR"
      },
      "source": [
        "r_preds = pml.Raster(\"/stack.tif\")"
      ],
      "execution_count": null,
      "outputs": []
    },
    {
      "cell_type": "code",
      "metadata": {
        "colab": {
          "base_uri": "https://localhost:8080/"
        },
        "id": "WtwmX8hw1SLG",
        "outputId": "98dae23d-0463-450f-aa30-69e15749be26"
      },
      "source": [
        "print(r_preds.names)"
      ],
      "execution_count": null,
      "outputs": [
        {
          "output_type": "stream",
          "text": [
            "['stack_1', 'stack_2', 'stack_3', 'stack_4', 'stack_5', 'stack_6', 'stack_7', 'stack_8']\n"
          ],
          "name": "stdout"
        }
      ]
    },
    {
      "cell_type": "code",
      "metadata": {
        "colab": {
          "base_uri": "https://localhost:8080/"
        },
        "id": "cZbT5cpA11G1",
        "outputId": "1d18c9bd-931a-4d2c-f174-05e88363df4f"
      },
      "source": [
        "r_preds.rename({'stack_1':\"ASPECT\", \n",
        "               'stack_2':\"faults\", \n",
        "               'stack_3':\"GEOLOGY\", \n",
        "               'stack_4': \"LANDCOVER\", \n",
        "               'stack_5':\"PRECIPITATION\", \n",
        "               'stack_6':\"roads\", \n",
        "               'stack_7':\"SLOPE\", \n",
        "               'stack_8':\"streams\"})"
      ],
      "execution_count": null,
      "outputs": [
        {
          "output_type": "execute_result",
          "data": {
            "text/plain": [
              "<pyspatialml.raster.Raster at 0x7fa78a701350>"
            ]
          },
          "metadata": {
            "tags": []
          },
          "execution_count": 37
        }
      ]
    },
    {
      "cell_type": "code",
      "metadata": {
        "colab": {
          "base_uri": "https://localhost:8080/"
        },
        "id": "_oIhCFD25SWX",
        "outputId": "122da29e-b13d-4041-8a2d-c641bcec2b6b"
      },
      "source": [
        "print(r_preds.names)"
      ],
      "execution_count": null,
      "outputs": [
        {
          "output_type": "stream",
          "text": [
            "['stack_1', 'stack_2', 'stack_3', 'stack_4', 'stack_5', 'stack_6', 'stack_7', 'stack_8']\n"
          ],
          "name": "stdout"
        }
      ]
    },
    {
      "cell_type": "code",
      "metadata": {
        "id": "0VgswIDI5sAF"
      },
      "source": [
        "result = r_preds.predict_proba(estimator=rf_mod)\n"
      ],
      "execution_count": null,
      "outputs": []
    },
    {
      "cell_type": "code",
      "metadata": {
        "colab": {
          "base_uri": "https://localhost:8080/"
        },
        "id": "4x8dpTzc6VHs",
        "outputId": "fac08140-9eb5-46a7-b08f-74c398b0308a"
      },
      "source": [
        "result.write(\"/SM.tif\")"
      ],
      "execution_count": null,
      "outputs": [
        {
          "output_type": "execute_result",
          "data": {
            "text/plain": [
              "<pyspatialml.raster.Raster at 0x7fa788f14810>"
            ]
          },
          "metadata": {
            "tags": []
          },
          "execution_count": 61
        }
      ]
    },
    {
      "cell_type": "code",
      "metadata": {
        "colab": {
          "base_uri": "https://localhost:8080/",
          "height": 504
        },
        "id": "91i9N3oLAkIa",
        "outputId": "edacf117-8d65-45d1-9167-e55b6afd8b6c"
      },
      "source": [
        "m_result = rio.open(\"/SM.tif\")\n",
        "m_result_arr = m_result.read(2)\n",
        "plt.rcParams['figure.figsize'] = [10, 8]\n",
        "plt.imshow(m_result_arr, cmap=\"Blues\", vmin=0, vmax=1)"
      ],
      "execution_count": null,
      "outputs": [
        {
          "output_type": "execute_result",
          "data": {
            "text/plain": [
              "<matplotlib.image.AxesImage at 0x7fa786f3cf50>"
            ]
          },
          "metadata": {
            "tags": []
          },
          "execution_count": 62
        },
        {
          "output_type": "display_data",
          "data": {
            "image/png": "[encoded data removed]",
            "text/plain": [
              "<Figure size 720x576 with 1 Axes>"
            ]
          },
          "metadata": {
            "tags": [],
            "needs_background": "light"
          }
        }
      ]
    }
  ]
}